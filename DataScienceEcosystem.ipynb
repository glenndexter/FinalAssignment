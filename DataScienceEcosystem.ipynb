{
 "cells": [
  {
   "cell_type": "markdown",
   "id": "31426f36",
   "metadata": {},
   "source": [
    "# H1: Data Science Tools and Ecosystem"
   ]
  },
  {
   "cell_type": "markdown",
   "id": "a0dded35",
   "metadata": {},
   "source": [
    "**Objectives:**\n",
    "- Popular languages in Data Science\n",
    "- Common used libraries in Data Science\n",
    "- Data Science Tools"
   ]
  },
  {
   "cell_type": "markdown",
   "id": "a1eeb5c1",
   "metadata": {},
   "source": [
    "In this notebook, Data Science Tools and Ecosystem are summarized."
   ]
  },
  {
   "cell_type": "markdown",
   "id": "ae4b9285",
   "metadata": {},
   "source": [
    "Some of the popular languages that Data Scientists use are:\n",
    "1. Python\n",
    "2. R\n",
    "3. Julia"
   ]
  },
  {
   "cell_type": "markdown",
   "id": "63d17ebd",
   "metadata": {},
   "source": [
    "Some of the commonly used libraries used by Data Scientists include:\n",
    "1. Pandas\n",
    "2. NumPy\n",
    "3. Matplotlib\n",
    "4. SciPy"
   ]
  },
  {
   "cell_type": "markdown",
   "id": "ab618eac",
   "metadata": {},
   "source": [
    "Data Science Tools |\n",
    "-----\n",
    "Jupyter Notebook\n",
    "R Studio\n",
    "Zepellin Notebook"
   ]
  },
  {
   "cell_type": "markdown",
   "id": "219b6b99",
   "metadata": {},
   "source": [
    "### H3: Below are a few examples of evaluating arithmetic expressions in Python"
   ]
  },
  {
   "cell_type": "code",
   "execution_count": 8,
   "id": "87e01948",
   "metadata": {},
   "outputs": [
    {
     "data": {
      "text/plain": [
       "17"
      ]
     },
     "execution_count": 8,
     "metadata": {},
     "output_type": "execute_result"
    }
   ],
   "source": [
    "# This a simple arithmetic expression to mutiply then add integers\n",
    "(3*4)+5"
   ]
  },
  {
   "cell_type": "code",
   "execution_count": 11,
   "id": "2a499ff1",
   "metadata": {},
   "outputs": [
    {
     "name": "stdout",
     "output_type": "stream",
     "text": [
      "Please enter minutes:500\n",
      "8.333333333333334 Hours\n"
     ]
    }
   ],
   "source": [
    "# This will convert 200 minutes to hours by diving by 60\n",
    "minutes = int(input(\"Please enter minutes:\"))\n",
    "Hours = minutes/60\n",
    "print(Hours, \"Hours\")"
   ]
  },
  {
   "cell_type": "markdown",
   "id": "44bea207",
   "metadata": {},
   "source": [
    "## H2: Author\n",
    "Glenn R. Foronda"
   ]
  },
  {
   "cell_type": "code",
   "execution_count": null,
   "id": "0ecb4b1c",
   "metadata": {},
   "outputs": [],
   "source": []
  }
 ],
 "metadata": {
  "kernelspec": {
   "display_name": "Python 3 (ipykernel)",
   "language": "python",
   "name": "python3"
  },
  "language_info": {
   "codemirror_mode": {
    "name": "ipython",
    "version": 3
   },
   "file_extension": ".py",
   "mimetype": "text/x-python",
   "name": "python",
   "nbconvert_exporter": "python",
   "pygments_lexer": "ipython3",
   "version": "3.10.9"
  }
 },
 "nbformat": 4,
 "nbformat_minor": 5
}
